{
 "cells": [
  {
   "cell_type": "markdown",
   "source": [
    "## Get all instruments"
   ],
   "metadata": {
    "collapsed": false
   }
  },
  {
   "cell_type": "code",
   "execution_count": null,
   "outputs": [],
   "source": [
    "from async_okx_v5.public import PublicAPI\n",
    "\n",
    "publicAPI = PublicAPI()\n",
    "res = await publicAPI.get_instruments('SPOT')\n",
    "res"
   ],
   "metadata": {
    "collapsed": false
   }
  },
  {
   "cell_type": "markdown",
   "source": [
    "## Get specific instrument"
   ],
   "metadata": {
    "collapsed": false
   }
  },
  {
   "cell_type": "code",
   "execution_count": null,
   "outputs": [],
   "source": [
    "res = await publicAPI.get_specific_instrument('SWAP', 'BTC-USDT-SWAP')\n",
    "res"
   ],
   "metadata": {
    "collapsed": false
   }
  },
  {
   "cell_type": "markdown",
   "source": [
    "## Get a specific ticker"
   ],
   "metadata": {
    "collapsed": false
   }
  },
  {
   "cell_type": "code",
   "execution_count": null,
   "outputs": [],
   "source": [
    "res = await publicAPI.get_specific_ticker('ETH-USDT-SWAP')\n",
    "res"
   ],
   "metadata": {
    "collapsed": false
   }
  },
  {
   "cell_type": "markdown",
   "source": [
    "## Get all candles"
   ],
   "metadata": {
    "collapsed": false
   }
  },
  {
   "cell_type": "code",
   "execution_count": null,
   "outputs": [],
   "source": [
    "res = await publicAPI.get_candles_for_days('ETH-USDT-SWAP', days=90, bar='1H')\n",
    "res"
   ],
   "metadata": {
    "collapsed": false
   }
  },
  {
   "cell_type": "markdown",
   "source": [
    "## Get funding rate history"
   ],
   "metadata": {
    "collapsed": false
   }
  },
  {
   "cell_type": "code",
   "execution_count": null,
   "outputs": [],
   "source": [
    "res = await publicAPI.get_funding_history('ETH-USDT-SWAP')\n",
    "res"
   ],
   "metadata": {
    "collapsed": false
   }
  },
  {
   "cell_type": "markdown",
   "source": [
    "## Fetch tickers using websocket"
   ],
   "metadata": {
    "collapsed": false
   }
  },
  {
   "cell_type": "code",
   "execution_count": null,
   "outputs": [],
   "source": [
    "from async_okx_v5.websocket import *\n",
    "from pprint import pprint\n",
    "\n",
    "okx_ws = OkxWebsocket('', '', '')\n",
    "ticker_channel = await okx_ws.subscribe_public([\n",
    "    TickersChannel(channel='tickers', instId='BTC-USDT-SWAP'),\n",
    "    TickersChannel(channel='tickers', instId='ETH-USDT-SWAP')\n",
    "])\n",
    "count = 0\n",
    "async for ticker in ticker_channel:\n",
    "    pprint(ticker)\n",
    "    count += 1\n",
    "    if count == 10:\n",
    "        break"
   ],
   "metadata": {
    "collapsed": false
   }
  },
  {
   "cell_type": "markdown",
   "source": [
    "## Fetch candles using websocket"
   ],
   "metadata": {
    "collapsed": false
   }
  },
  {
   "cell_type": "code",
   "execution_count": null,
   "outputs": [],
   "source": [
    "candle_channel = await okx_ws.subscribe_public([\n",
    "    CandleChannel(channel='candle1m', instId='BTC-USDT-SWAP'),\n",
    "    CandleChannel(channel='candle1m', instId='ETH-USDT-SWAP')\n",
    "])\n",
    "count = 0\n",
    "async for candle in candle_channel:\n",
    "    pprint(candle)\n",
    "    count += 1\n",
    "    if count == 3:\n",
    "        break"
   ],
   "metadata": {
    "collapsed": false
   }
  },
  {
   "cell_type": "markdown",
   "source": [],
   "metadata": {
    "collapsed": false
   }
  },
  {
   "cell_type": "markdown",
   "source": [
    "## Fetch account update using websocket"
   ],
   "metadata": {
    "collapsed": false
   }
  },
  {
   "cell_type": "code",
   "execution_count": null,
   "outputs": [],
   "source": [
    "from dotenv import load_dotenv\n",
    "import os\n",
    "\n",
    "load_dotenv()\n",
    "okx_ws = OkxWebsocket(os.environ['OKX_TEST_API_KEY'], os.environ['OKX_TEST_SECRET_KEY'],\n",
    "                      os.environ['OKX_TEST_PASSPHRASE'], test=True)\n",
    "account_channel = await okx_ws.subscribe_private([\n",
    "    AccountChannel(channel='account')\n",
    "])\n",
    "count = 0\n",
    "async for res in account_channel:\n",
    "    pprint(res)\n",
    "    count += 1\n",
    "    if count == 3:\n",
    "        break\n",
    "await account_channel.unsubscribe()"
   ],
   "metadata": {
    "collapsed": false
   }
  }
 ],
 "metadata": {
  "kernelspec": {
   "display_name": "Python 3",
   "language": "python",
   "name": "python3"
  },
  "language_info": {
   "codemirror_mode": {
    "name": "ipython",
    "version": 2
   },
   "file_extension": ".py",
   "mimetype": "text/x-python",
   "name": "python",
   "nbconvert_exporter": "python",
   "pygments_lexer": "ipython2",
   "version": "2.7.6"
  }
 },
 "nbformat": 4,
 "nbformat_minor": 0
}
